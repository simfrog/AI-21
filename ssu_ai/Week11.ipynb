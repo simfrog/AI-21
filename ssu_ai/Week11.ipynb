{
 "cells": [
  {
   "cell_type": "code",
   "execution_count": null,
   "id": "c1c4023e",
   "metadata": {},
   "outputs": [],
   "source": [
    "# 불균형 라벨 데이터 -> 효과적인 머신러닝이 이뤄지지 못하도록 한다(다수 클래스 데이터를 더 잘 맞추려고 학습 과정이 이뤄지는 경향)\n",
    "\n",
    "# 균형 샘플링(balanced sampling) : 학습 데이터 내 클래스의 수를 균형 맞춰 위 문제를 해결하는 것\n",
    "\n",
    "# !!학습 데이터에만 균형 샘플링 적용, 테스트 데이터는 불균형 분포를 그대로 사용!!! "
   ]
  },
  {
   "cell_type": "code",
   "execution_count": null,
   "id": "8e657b25",
   "metadata": {},
   "outputs": [],
   "source": [
    "# 언더 샘플링(Under sampling) : 많은 레이블을 가진 데이터 세트 -> 적은 레이블을 가진 데이터 세트(감소)\n",
    "# 스케일 문제 -> 데이터가 지나치게 줄어들 수 있다\n",
    "# 샘플링 문제 -> 선택 과정에서 본래 데이터를 대표하지 못한다\n",
    "\n",
    "# 오버 샘플링(Over sampling) : 적은 레이블을 가진 데이터 세트 -> 많은 레이블을 가진 데이터 세트(증식)\n",
    "# 과적합 문제 -> 소수 클래스 데이터에 민감하게 학습(적은 수의 데이터에 대해 여러번 학습)"
   ]
  },
  {
   "cell_type": "code",
   "execution_count": null,
   "id": "6905815e",
   "metadata": {},
   "outputs": [],
   "source": [
    "# SMOTE 기법 -> 오버 샘플링 보완\n",
    "# Synthetic(합성, 가짜) Minority(소수) Over-sampling Technique\n",
    "# 소수 클래스 데이터에 대해 실제 데이터를 기반으로 가상 데이터를 생성하여 오버 샘플링\n",
    "\n",
    "# 원본 데이터 -> K 최근접 이웃으로 데이터 신규 증식 대상 설정 -> 신규 증식하여 오버 샘플링 완료"
   ]
  },
  {
   "cell_type": "code",
   "execution_count": 2,
   "id": "a57678be",
   "metadata": {},
   "outputs": [
    {
     "name": "stdout",
     "output_type": "stream",
     "text": [
      "0.8.0\n"
     ]
    }
   ],
   "source": [
    "import imblearn\n",
    "print(imblearn.__version__)"
   ]
  },
  {
   "cell_type": "code",
   "execution_count": 10,
   "id": "43de4253",
   "metadata": {},
   "outputs": [
    {
     "ename": "AttributeError",
     "evalue": "'RandomUnderSampler' object has no attribute 'iloc'",
     "output_type": "error",
     "traceback": [
      "\u001b[1;31m---------------------------------------------------------------------------\u001b[0m",
      "\u001b[1;31mAttributeError\u001b[0m                            Traceback (most recent call last)",
      "\u001b[1;32m<ipython-input-10-37539cab58ca>\u001b[0m in \u001b[0;36m<module>\u001b[1;34m\u001b[0m\n\u001b[0;32m      4\u001b[0m \u001b[1;33m\u001b[0m\u001b[0m\n\u001b[0;32m      5\u001b[0m \u001b[0munder_sampler\u001b[0m \u001b[1;33m=\u001b[0m \u001b[0mRandomUnderSampler\u001b[0m\u001b[1;33m(\u001b[0m\u001b[0mrandom_state\u001b[0m\u001b[1;33m=\u001b[0m\u001b[1;36m0\u001b[0m\u001b[1;33m)\u001b[0m\u001b[1;33m\u001b[0m\u001b[1;33m\u001b[0m\u001b[0m\n\u001b[1;32m----> 6\u001b[1;33m \u001b[0mX_feautres\u001b[0m \u001b[1;33m=\u001b[0m \u001b[0munder_sampler\u001b[0m\u001b[1;33m.\u001b[0m\u001b[0miloc\u001b[0m\u001b[1;33m[\u001b[0m\u001b[1;33m:\u001b[0m\u001b[1;33m,\u001b[0m\u001b[1;33m:\u001b[0m\u001b[1;33m-\u001b[0m\u001b[1;36m1\u001b[0m\u001b[1;33m]\u001b[0m\u001b[1;33m\u001b[0m\u001b[1;33m\u001b[0m\u001b[0m\n\u001b[0m\u001b[0;32m      7\u001b[0m \u001b[0my_target\u001b[0m \u001b[1;33m=\u001b[0m \u001b[0munder_sampler\u001b[0m\u001b[1;33m.\u001b[0m\u001b[0miloc\u001b[0m\u001b[1;33m[\u001b[0m\u001b[1;33m:\u001b[0m\u001b[1;33m,\u001b[0m\u001b[1;33m-\u001b[0m\u001b[1;36m1\u001b[0m\u001b[1;33m]\u001b[0m\u001b[1;33m\u001b[0m\u001b[1;33m\u001b[0m\u001b[0m\n\u001b[0;32m      8\u001b[0m \u001b[0mX_train\u001b[0m\u001b[1;33m,\u001b[0m \u001b[0mX_test\u001b[0m\u001b[1;33m,\u001b[0m \u001b[0my_train\u001b[0m\u001b[1;33m,\u001b[0m \u001b[0my_test\u001b[0m \u001b[1;33m=\u001b[0m \u001b[0mtrain_test_split\u001b[0m\u001b[1;33m(\u001b[0m\u001b[0munder_sampler\u001b[0m\u001b[1;33m.\u001b[0m\u001b[0mdata\u001b[0m\u001b[1;33m,\u001b[0m \u001b[0munder_sampler\u001b[0m\u001b[1;33m.\u001b[0m\u001b[0mtarget\u001b[0m\u001b[1;33m,\u001b[0m \u001b[0mtest_size\u001b[0m\u001b[1;33m=\u001b[0m\u001b[1;36m0.3\u001b[0m\u001b[1;33m,\u001b[0m \u001b[0mrandom_state\u001b[0m\u001b[1;33m=\u001b[0m\u001b[1;36m121\u001b[0m\u001b[1;33m)\u001b[0m\u001b[1;33m\u001b[0m\u001b[1;33m\u001b[0m\u001b[0m\n",
      "\u001b[1;31mAttributeError\u001b[0m: 'RandomUnderSampler' object has no attribute 'iloc'"
     ]
    }
   ],
   "source": [
    "from imblearn.under_sampling import RandomUnderSampler\n",
    "from sklearn.model_selection import train_test_split\n",
    "import numpy as np\n",
    "\n",
    "under_sampler = RandomUnderSampler(random_state=0)\n",
    "\n",
    "X_train_under, y_train_under = under_sampler.fit_resample(X_train, y_train)\n",
    "print('Undersampling 적용 전 학습용 피처/레이블 데이터 세트: ',X_train,shape,y_train.shape)\n",
    "print('Undersampling 적용 후 학습용 피처/레이블 데이터 세트: ',X_train.shape, y_train_under.shape)\n",
    "print('Undersampling 적용 후 레이블 값 분표: \\n', pd.Series(y_train_under).value_counts())"
   ]
  },
  {
   "cell_type": "code",
   "execution_count": 3,
   "id": "d6879ff2",
   "metadata": {},
   "outputs": [
    {
     "ename": "AttributeError",
     "evalue": "'numpy.ndarray' object has no attribute 'type'",
     "output_type": "error",
     "traceback": [
      "\u001b[1;31m---------------------------------------------------------------------------\u001b[0m",
      "\u001b[1;31mAttributeError\u001b[0m                            Traceback (most recent call last)",
      "\u001b[1;32m<ipython-input-3-45e524462474>\u001b[0m in \u001b[0;36m<module>\u001b[1;34m\u001b[0m\n\u001b[0;32m      8\u001b[0m \u001b[0my_label\u001b[0m \u001b[1;33m=\u001b[0m \u001b[0mcancer_data\u001b[0m\u001b[1;33m.\u001b[0m\u001b[0mtarget\u001b[0m\u001b[1;33m\u001b[0m\u001b[1;33m\u001b[0m\u001b[0m\n\u001b[0;32m      9\u001b[0m \u001b[1;33m\u001b[0m\u001b[0m\n\u001b[1;32m---> 10\u001b[1;33m \u001b[0my_label\u001b[0m\u001b[1;33m.\u001b[0m\u001b[0mtype\u001b[0m\u001b[1;33m(\u001b[0m\u001b[1;33m)\u001b[0m\u001b[1;33m\u001b[0m\u001b[1;33m\u001b[0m\u001b[0m\n\u001b[0m",
      "\u001b[1;31mAttributeError\u001b[0m: 'numpy.ndarray' object has no attribute 'type'"
     ]
    }
   ],
   "source": [
    "import numpy as np\n",
    "\n",
    "from sklearn.datasets import load_breast_cancer\n",
    "\n",
    "cancer_data = load_breast_cancer()\n",
    "\n",
    "X_data = cancer_data.data\n",
    "y_label = cancer_data.target\n",
    "\n",
    "y_label.type()"
   ]
  },
  {
   "cell_type": "code",
   "execution_count": null,
   "id": "399b96e0",
   "metadata": {},
   "outputs": [],
   "source": []
  }
 ],
 "metadata": {
  "kernelspec": {
   "display_name": "Python [conda env:ssu] *",
   "language": "python",
   "name": "conda-env-ssu-py"
  },
  "language_info": {
   "codemirror_mode": {
    "name": "ipython",
    "version": 3
   },
   "file_extension": ".py",
   "mimetype": "text/x-python",
   "name": "python",
   "nbconvert_exporter": "python",
   "pygments_lexer": "ipython3",
   "version": "3.6.13"
  }
 },
 "nbformat": 4,
 "nbformat_minor": 5
}
