{
 "cells": [
  {
   "cell_type": "code",
   "execution_count": 26,
   "id": "front-guyana",
   "metadata": {},
   "outputs": [
    {
     "name": "stdout",
     "output_type": "stream",
     "text": [
      "2 4 6 8 10 12 14 16 18  \n",
      "3 6 9 12 15 18 21 24 27  \n",
      "4 8 12 16 20 24 28 32 36  \n",
      "5 10 15 20 25 30 35 40 45  \n",
      "6 12 18 24 30 36 42 48 54  \n",
      "7 14 21 28 35 42 49 56 63  \n",
      "8 16 24 32 40 48 56 64 72  \n",
      "9 18 27 36 45 54 63 72 81  \n"
     ]
    }
   ],
   "source": [
    "for i in range(2, 10):\n",
    "    for j in range(1, 10):\n",
    "        print(i*j, end=' ')\n",
    "    print(' ')"
   ]
  },
  {
   "cell_type": "code",
   "execution_count": 18,
   "id": "optimum-clock",
   "metadata": {},
   "outputs": [
    {
     "name": "stdout",
     "output_type": "stream",
     "text": [
      "몇단? 9\n",
      "9 18 27 36 45 54 63 72 81 "
     ]
    }
   ],
   "source": [
    "def mul(a):\n",
    "    for i in range(1, 10):\n",
    "        print(a*i, end=' ')\n",
    "        \n",
    "number = int(input(\"몇단? \"))\n",
    "mul(number)"
   ]
  },
  {
   "cell_type": "code",
   "execution_count": 27,
   "id": "joint-ending",
   "metadata": {},
   "outputs": [
    {
     "name": "stdout",
     "output_type": "stream",
     "text": [
      "줄 수: 5\n",
      "        *  \n",
      "      * * *  \n",
      "    * * * * *  \n",
      "  * * * * * * *  \n",
      "* * * * * * * * *  \n"
     ]
    }
   ],
   "source": [
    "def func1(a):\n",
    "    for i in range(1, a+1):\n",
    "        for j in range(1, i+1):\n",
    "            print('*', end=' ')\n",
    "        print(' ')\n",
    "        \n",
    "def func2(a):\n",
    "    for i in range(1, a+1):\n",
    "        for j in range(a-i):\n",
    "            print(' ', end=' ')\n",
    "        for k in range(1,i*2):\n",
    "            print('*', end=' ')\n",
    "        print(' ')\n",
    "\n",
    "line_number = int(input(\"줄 수: \"))\n",
    "func2(line_number)"
   ]
  },
  {
   "cell_type": "code",
   "execution_count": 43,
   "id": "different-yeast",
   "metadata": {},
   "outputs": [
    {
     "data": {
      "text/plain": [
       "2.0"
      ]
     },
     "execution_count": 43,
     "metadata": {},
     "output_type": "execute_result"
    }
   ],
   "source": [
    "def print_score(a):\n",
    "    sum=0\n",
    "    for i in a:\n",
    "        sum += i\n",
    "    return sum/len(a)\n",
    "\n",
    "print_score([1,2,3])"
   ]
  },
  {
   "cell_type": "code",
   "execution_count": 45,
   "id": "annoying-innocent",
   "metadata": {},
   "outputs": [
    {
     "data": {
      "text/plain": [
       "[4, 6, 8]"
      ]
     },
     "execution_count": 45,
     "metadata": {},
     "output_type": "execute_result"
    }
   ],
   "source": [
    "def pickup_even(a):\n",
    "    b = []\n",
    "    for i in a:\n",
    "        if i%2 == 0:\n",
    "            b.append(i)\n",
    "    return b\n",
    "\n",
    "pickup_even([3, 4, 5, 6, 7, 8])"
   ]
  },
  {
   "cell_type": "code",
   "execution_count": 46,
   "id": "animated-radiation",
   "metadata": {},
   "outputs": [
    {
     "name": "stdout",
     "output_type": "stream",
     "text": [
      "{'메로나': [300, 20], '비비빅': [400, 3], '죠스바': [250, 100], '월드콘': [500, 7]}\n"
     ]
    }
   ],
   "source": [
    "inventory = {\"메로나\": [300, 20],\n",
    "             \"비비빅\": [400, 3],\n",
    "             \"죠스바\": [250, 100]}\n",
    "inventory[\"월드콘\"] = [500, 7]\n",
    "print(inventory)"
   ]
  },
  {
   "cell_type": "code",
   "execution_count": 47,
   "id": "negative-element",
   "metadata": {},
   "outputs": [
    {
     "name": "stdout",
     "output_type": "stream",
     "text": [
      "줄 수: 8\n",
      "              *  \n",
      "            * * *  \n",
      "          * * * * *  \n",
      "        * * * * * * *  \n",
      "      * * * * * * * * *  \n",
      "    * * * * * * * * * * *  \n",
      "  * * * * * * * * * * * * *  \n",
      "* * * * * * * * * * * * * * *  \n"
     ]
    }
   ],
   "source": [
    "def func1(a):\n",
    "    for i in range(1, a+1):\n",
    "        for j in range(a-i):\n",
    "            print(' ', end='')\n",
    "        for k in range(1, i*2):\n",
    "            print('*', end='')\n",
    "        print(' ')\n",
    "line_number = int(input(\"줄 수: \"))\n",
    "func2(line_number)"
   ]
  },
  {
   "cell_type": "markdown",
   "id": "scheduled-connecticut",
   "metadata": {},
   "source": [
    "# List\n",
    "\n",
    "여러 요소를 가지는 순서가 있는 집합  \n",
    "서로 다른 데이터형 사용 가능"
   ]
  },
  {
   "cell_type": "code",
   "execution_count": 1,
   "id": "industrial-spice",
   "metadata": {},
   "outputs": [
    {
     "name": "stdout",
     "output_type": "stream",
     "text": [
      "10\n",
      "Test\n",
      "False\n"
     ]
    }
   ],
   "source": [
    "# Indexing\n",
    "a = [\"AB\", 10, False]\n",
    "x = a[1]\n",
    "a[1] = \"Test\"\n",
    "y = a[-1]\n",
    "\n",
    "print(x)\n",
    "print(a[1])\n",
    "print(y)"
   ]
  },
  {
   "cell_type": "code",
   "execution_count": 2,
   "id": "separate-mozambique",
   "metadata": {},
   "outputs": [
    {
     "name": "stdout",
     "output_type": "stream",
     "text": [
      "['AB', 11, 21.5]\n"
     ]
    }
   ],
   "source": [
    "# 추가, 수정, 삭제\n",
    "a. append(21.5)\n",
    "a[1] = 11\n",
    "del a[2]\n",
    "print(a)"
   ]
  },
  {
   "cell_type": "code",
   "execution_count": 3,
   "id": "surrounded-albert",
   "metadata": {},
   "outputs": [],
   "source": [
    "# Slicing\n",
    "a = [1, 3, 5, 7, 10]\n",
    "x = a[1:3]    # [3,5]\n",
    "x = a[:2]     # [1,3]\n",
    "x = a[3:]     # [7, 10]"
   ]
  },
  {
   "cell_type": "code",
   "execution_count": 4,
   "id": "increasing-skiing",
   "metadata": {},
   "outputs": [
    {
     "name": "stdout",
     "output_type": "stream",
     "text": [
      "[1, 2, 3, 4, 5]\n",
      "[1, 2, 1, 2, 1, 2]\n"
     ]
    }
   ],
   "source": [
    "# 병합\n",
    "a = [1, 2]\n",
    "b = [3, 4, 5]\n",
    "c = a + b\n",
    "print(c)\n",
    "\n",
    "# 반복\n",
    "d = a * 3\n",
    "print(d)"
   ]
  },
  {
   "cell_type": "markdown",
   "id": "subsequent-agenda",
   "metadata": {},
   "source": [
    "# Tuple\n",
    "\n",
    "리스트와 동일하게 여러 요소를 갖고 있음  \n",
    "추가/수정/삭제 불가"
   ]
  },
  {
   "cell_type": "code",
   "execution_count": 5,
   "id": "accompanied-promise",
   "metadata": {},
   "outputs": [
    {
     "name": "stdout",
     "output_type": "stream",
     "text": [
      "('AB', 10, False)\n"
     ]
    }
   ],
   "source": [
    "t = (\"AB\", 10, False)\n",
    "print(t)"
   ]
  },
  {
   "cell_type": "code",
   "execution_count": 6,
   "id": "bizarre-karen",
   "metadata": {},
   "outputs": [
    {
     "name": "stdout",
     "output_type": "stream",
     "text": [
      "123\n",
      "(123,)\n"
     ]
    }
   ],
   "source": [
    "t1 = (123)\n",
    "print(t1)    # int 타입\n",
    "\n",
    "t2 = (123,)\n",
    "print(t2)    # tuple 타입"
   ]
  },
  {
   "cell_type": "code",
   "execution_count": 7,
   "id": "behind-snapshot",
   "metadata": {},
   "outputs": [
    {
     "name": "stdout",
     "output_type": "stream",
     "text": [
      "5\n",
      "10\n",
      "(5,)\n",
      "(5, 10)\n"
     ]
    }
   ],
   "source": [
    "t = (1, 5, 10)\n",
    "\n",
    "# Indexing\n",
    "second = t[1]\n",
    "last = t[-1]\n",
    "print(second)\n",
    "print(last)\n",
    "\n",
    "# Slicing\n",
    "s = t[1:2]\n",
    "print(s)\n",
    "s = t[1:]\n",
    "print(s)"
   ]
  },
  {
   "cell_type": "code",
   "execution_count": 8,
   "id": "thorough-aaron",
   "metadata": {},
   "outputs": [
    {
     "name": "stdout",
     "output_type": "stream",
     "text": [
      "(1, 2, 3, 4, 5)\n",
      "(1, 2, 1, 2, 1, 2)\n"
     ]
    }
   ],
   "source": [
    "# 병합\n",
    "a = (1, 2)\n",
    "b = (3, 4, 5)\n",
    "c = a + b\n",
    "print(c)\n",
    "\n",
    "# 반복\n",
    "d = a * 3\n",
    "print(d)"
   ]
  },
  {
   "cell_type": "code",
   "execution_count": 9,
   "id": "august-continent",
   "metadata": {},
   "outputs": [
    {
     "name": "stdout",
     "output_type": "stream",
     "text": [
      "('John', 'Kim')\n",
      "Kim ,  John\n"
     ]
    }
   ],
   "source": [
    "name = (\"John\", \"Kim\")\n",
    "print(name)\n",
    "\n",
    "firstname, lastname = (\"John\", \"Kim\")\n",
    "print(lastname,  \", \", firstname)"
   ]
  },
  {
   "cell_type": "markdown",
   "id": "historical-cedar",
   "metadata": {},
   "source": [
    "# Dictionary\n",
    "\n",
    "Key-Value를 쌍으로 갖는 컬렉션  \n",
    "리스트나 튜플과 다르게 순차적으로 값을 얻지 않고, key를 통해 value를 얻음"
   ]
  },
  {
   "cell_type": "code",
   "execution_count": 13,
   "id": "cultural-valve",
   "metadata": {},
   "outputs": [
    {
     "name": "stdout",
     "output_type": "stream",
     "text": [
      "85\n",
      "88\n"
     ]
    }
   ],
   "source": [
    "scores = {\"철수\":90, \"민수\":85, \"영희\":80}\n",
    "v = scores[\"민수\"]\n",
    "scores[\"민수\"] = 88\n",
    "print(v)\n",
    "print(scores[\"민수\"])"
   ]
  },
  {
   "cell_type": "code",
   "execution_count": 15,
   "id": "fluid-auction",
   "metadata": {},
   "outputs": [
    {
     "name": "stdout",
     "output_type": "stream",
     "text": [
      "35\n",
      "90\n"
     ]
    }
   ],
   "source": [
    "# 1. Tuple List로부터 dict 생성\n",
    "persons = [('김기수', 30), ('홍대길', 35), ('강찬수', 25)]\n",
    "mydict = dict(persons)\n",
    "\n",
    "age = mydict[\"홍대길\"]\n",
    "print(age)\n",
    "\n",
    "# 2. Key=Value 파라미터로부터 dict 생성\n",
    "scores = dict(a=80, b=90, c=85)\n",
    "print(scores['b'])"
   ]
  },
  {
   "cell_type": "code",
   "execution_count": 16,
   "id": "ethical-intensity",
   "metadata": {},
   "outputs": [
    {
     "name": "stdout",
     "output_type": "stream",
     "text": [
      "{'철수': 90, '민수': 88, '길동': 95}\n"
     ]
    }
   ],
   "source": [
    "# 추가, 수정, 삭제\n",
    "scores = {\"철수\":90, \"민수\":85, \"영희\":80}\n",
    "scores[\"민수\"] = 88\n",
    "scores[\"길동\"] = 95\n",
    "del scores[\"영희\"]\n",
    "print(scores)"
   ]
  },
  {
   "cell_type": "code",
   "execution_count": 17,
   "id": "authorized-configuration",
   "metadata": {},
   "outputs": [
    {
     "name": "stdout",
     "output_type": "stream",
     "text": [
      "철수 : 90\n",
      "민수 : 85\n",
      "영희 : 80\n"
     ]
    }
   ],
   "source": [
    "# 출력\n",
    "scores = {\"철수\":90, \"민수\":85, \"영희\":80}\n",
    "\n",
    "for key in scores:\n",
    "    val = scores[key]\n",
    "    print(\"%s : %d\" % (key,val))"
   ]
  },
  {
   "cell_type": "code",
   "execution_count": 18,
   "id": "backed-vatican",
   "metadata": {},
   "outputs": [
    {
     "name": "stdout",
     "output_type": "stream",
     "text": [
      "철수\n",
      "민수\n",
      "영희\n",
      "90\n",
      "85\n",
      "80\n"
     ]
    }
   ],
   "source": [
    "scores = {\"철수\":90, \"민수\":85, \"영희\":80}\n",
    "\n",
    "# keys\n",
    "keys = scores.keys()\n",
    "for k in keys:\n",
    "    print(k)\n",
    "    \n",
    "# values\n",
    "values = scores.values()\n",
    "for v in values:\n",
    "    print(v)"
   ]
  },
  {
   "cell_type": "code",
   "execution_count": 19,
   "id": "typical-collection",
   "metadata": {},
   "outputs": [
    {
     "name": "stdout",
     "output_type": "stream",
     "text": [
      "dict_items([('철수', 90), ('민수', 85), ('영희', 80)])\n"
     ]
    }
   ],
   "source": [
    "# items\n",
    "items = scores.items()\n",
    "print(items)\n",
    "\n",
    "itemsList = list(items)"
   ]
  },
  {
   "cell_type": "markdown",
   "id": "cleared-faith",
   "metadata": {},
   "source": [
    "# Set\n",
    "\n",
    "중복이 없는 요소로만 구성된 컬렉션  \n",
    "순서를 저장하지 않음"
   ]
  },
  {
   "cell_type": "code",
   "execution_count": 20,
   "id": "cosmetic-google",
   "metadata": {},
   "outputs": [
    {
     "name": "stdout",
     "output_type": "stream",
     "text": [
      "{1, 3, 5}\n",
      "{'B', 'A'}\n"
     ]
    }
   ],
   "source": [
    "myset = {1, 1, 3, 5, 5}\n",
    "print(myset)\n",
    "\n",
    "# list -> set\n",
    "mylist = [\"A\", \"A\", \"B\", \"B\", \"B\"]\n",
    "s = set(mylist)\n",
    "print(s)"
   ]
  },
  {
   "cell_type": "code",
   "execution_count": 21,
   "id": "fluid-least",
   "metadata": {},
   "outputs": [
    {
     "name": "stdout",
     "output_type": "stream",
     "text": [
      "{1, 3, 5, 7}\n",
      "{1, 2, 3, 4, 5, 7, 10}\n",
      "{2, 3, 4, 5, 7, 10}\n",
      "set()\n"
     ]
    }
   ],
   "source": [
    "# 추가, 삭제\n",
    "myset = {1, 3, 5}\n",
    "\n",
    "myset.add(7)\n",
    "print(myset)\n",
    "\n",
    "myset.update({4,2,10})\n",
    "print(myset)\n",
    "\n",
    "myset.remove(1)\n",
    "print(myset)\n",
    "\n",
    "myset.clear()\n",
    "print(myset)"
   ]
  },
  {
   "cell_type": "code",
   "execution_count": 22,
   "id": "substantial-flower",
   "metadata": {},
   "outputs": [
    {
     "name": "stdout",
     "output_type": "stream",
     "text": [
      "{1, 5}\n",
      "{1, 2, 3, 5}\n",
      "{3}\n"
     ]
    }
   ],
   "source": [
    "a = {1, 3, 5}\n",
    "b = {1, 2, 5}\n",
    "\n",
    "# 교집합\n",
    "i = a & b\n",
    "# i = a.intersection(b)\n",
    "print(i)\n",
    "\n",
    "# 합집합\n",
    "u = a | b\n",
    "# u = a.union(b)\n",
    "print(u)\n",
    "\n",
    "# 차집합\n",
    "d = a - b\n",
    "# d = a.difference(b)\n",
    "print(d)"
   ]
  }
 ],
 "metadata": {
  "kernelspec": {
   "display_name": "Python 3",
   "language": "python",
   "name": "python3"
  },
  "language_info": {
   "codemirror_mode": {
    "name": "ipython",
    "version": 3
   },
   "file_extension": ".py",
   "mimetype": "text/x-python",
   "name": "python",
   "nbconvert_exporter": "python",
   "pygments_lexer": "ipython3",
   "version": "3.6.13"
  }
 },
 "nbformat": 4,
 "nbformat_minor": 5
}
